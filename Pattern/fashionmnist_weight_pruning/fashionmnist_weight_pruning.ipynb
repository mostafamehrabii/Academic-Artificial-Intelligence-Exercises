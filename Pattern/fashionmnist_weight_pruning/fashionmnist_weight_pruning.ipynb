{
  "cells": [
    {
      "cell_type": "code",
      "execution_count": 1,
      "metadata": {
        "id": "dPa6tNNGs9SG"
      },
      "outputs": [],
      "source": [
        "import torch\n",
        "import torch.nn as nn\n",
        "import torch.optim as optim\n",
        "import torchvision\n",
        "import torchvision.transforms as transforms\n",
        "from torch.utils.data import DataLoader, random_split\n",
        "from torchvision.datasets import FashionMNIST"
      ]
    },
    {
      "cell_type": "code",
      "execution_count": 2,
      "metadata": {
        "id": "7Gpx05eLtDnZ"
      },
      "outputs": [],
      "source": [
        "# Define the MLP model\n",
        "class MLP(nn.Module):\n",
        "    def __init__(self):\n",
        "        super(MLP, self).__init__()\n",
        "        self.fc1 = nn.Linear(28 * 28, 512)\n",
        "        self.fc2 = nn.Linear(512, 256)\n",
        "        self.fc3 = nn.Linear(256, 128)\n",
        "        self.fc4 = nn.Linear(128, 10)\n",
        "\n",
        "    def forward(self, x):\n",
        "        x = x.view(-1, 28 * 28)  # flatten input tensor\n",
        "        x = torch.relu(self.fc1(x))\n",
        "        x = torch.relu(self.fc2(x))\n",
        "        x = torch.relu(self.fc3(x))\n",
        "        x = self.fc4(x)\n",
        "        return x\n"
      ]
    },
    {
      "cell_type": "code",
      "execution_count": 3,
      "metadata": {
        "id": "zG2FbnditiMJ"
      },
      "outputs": [],
      "source": [
        "# Function to calculate accuracy of the model\n",
        "def evaluate_accuracy(model, dataloader):\n",
        "    model.eval()\n",
        "    correct = 0\n",
        "    total = 0\n",
        "    with torch.no_grad():\n",
        "        for images, labels in dataloader:\n",
        "            outputs = model(images)\n",
        "            _, predicted = torch.max(outputs.data, 1)\n",
        "            total += labels.size(0)\n",
        "            correct += (predicted == labels).sum().item()\n",
        "    accuracy = correct / total\n",
        "    return accuracy\n"
      ]
    },
    {
      "cell_type": "code",
      "execution_count": 4,
      "metadata": {
        "id": "Va9NbO7ztj_I"
      },
      "outputs": [],
      "source": [
        "# Parameters\n",
        "batch_size = 64\n",
        "learning_rate = 0.001\n",
        "num_epochs = 10"
      ]
    },
    {
      "cell_type": "code",
      "execution_count": 5,
      "metadata": {
        "id": "QKyNh2lctnML"
      },
      "outputs": [],
      "source": [
        "# Data preparation\n",
        "transform = transforms.Compose([\n",
        "    transforms.ToTensor(),\n",
        "    transforms.Normalize((0.5,), (0.5,))\n",
        "])"
      ]
    },
    {
      "cell_type": "code",
      "execution_count": 6,
      "metadata": {
        "colab": {
          "base_uri": "https://localhost:8080/"
        },
        "id": "WqobE7cdto6q",
        "outputId": "60463d21-f98c-4c29-8ee0-5e14240266ee"
      },
      "outputs": [
        {
          "name": "stdout",
          "output_type": "stream",
          "text": [
            "Downloading http://fashion-mnist.s3-website.eu-central-1.amazonaws.com/train-images-idx3-ubyte.gz\n",
            "Downloading http://fashion-mnist.s3-website.eu-central-1.amazonaws.com/train-images-idx3-ubyte.gz to ./data/FashionMNIST/raw/train-images-idx3-ubyte.gz\n"
          ]
        },
        {
          "name": "stderr",
          "output_type": "stream",
          "text": [
            "100%|██████████| 26421880/26421880 [00:01<00:00, 16145814.15it/s]\n"
          ]
        },
        {
          "name": "stdout",
          "output_type": "stream",
          "text": [
            "Extracting ./data/FashionMNIST/raw/train-images-idx3-ubyte.gz to ./data/FashionMNIST/raw\n",
            "\n",
            "Downloading http://fashion-mnist.s3-website.eu-central-1.amazonaws.com/train-labels-idx1-ubyte.gz\n",
            "Downloading http://fashion-mnist.s3-website.eu-central-1.amazonaws.com/train-labels-idx1-ubyte.gz to ./data/FashionMNIST/raw/train-labels-idx1-ubyte.gz\n"
          ]
        },
        {
          "name": "stderr",
          "output_type": "stream",
          "text": [
            "100%|██████████| 29515/29515 [00:00<00:00, 272290.31it/s]\n"
          ]
        },
        {
          "name": "stdout",
          "output_type": "stream",
          "text": [
            "Extracting ./data/FashionMNIST/raw/train-labels-idx1-ubyte.gz to ./data/FashionMNIST/raw\n",
            "\n",
            "Downloading http://fashion-mnist.s3-website.eu-central-1.amazonaws.com/t10k-images-idx3-ubyte.gz\n",
            "Downloading http://fashion-mnist.s3-website.eu-central-1.amazonaws.com/t10k-images-idx3-ubyte.gz to ./data/FashionMNIST/raw/t10k-images-idx3-ubyte.gz\n"
          ]
        },
        {
          "name": "stderr",
          "output_type": "stream",
          "text": [
            "100%|██████████| 4422102/4422102 [00:00<00:00, 5003374.70it/s]\n"
          ]
        },
        {
          "name": "stdout",
          "output_type": "stream",
          "text": [
            "Extracting ./data/FashionMNIST/raw/t10k-images-idx3-ubyte.gz to ./data/FashionMNIST/raw\n",
            "\n",
            "Downloading http://fashion-mnist.s3-website.eu-central-1.amazonaws.com/t10k-labels-idx1-ubyte.gz\n",
            "Downloading http://fashion-mnist.s3-website.eu-central-1.amazonaws.com/t10k-labels-idx1-ubyte.gz to ./data/FashionMNIST/raw/t10k-labels-idx1-ubyte.gz\n"
          ]
        },
        {
          "name": "stderr",
          "output_type": "stream",
          "text": [
            "100%|██████████| 5148/5148 [00:00<00:00, 5385950.86it/s]"
          ]
        },
        {
          "name": "stdout",
          "output_type": "stream",
          "text": [
            "Extracting ./data/FashionMNIST/raw/t10k-labels-idx1-ubyte.gz to ./data/FashionMNIST/raw\n",
            "\n"
          ]
        },
        {
          "name": "stderr",
          "output_type": "stream",
          "text": [
            "\n"
          ]
        }
      ],
      "source": [
        "# Load dataset\n",
        "dataset = FashionMNIST(root='./data', train=True, download=True, transform=transform)\n",
        "train_set, val_set = random_split(dataset, [50000, 10000])  # Split dataset into training and validation sets\n",
        "train_loader = DataLoader(train_set, batch_size=batch_size, shuffle=True)\n",
        "val_loader = DataLoader(val_set, batch_size=batch_size, shuffle=False)\n"
      ]
    },
    {
      "cell_type": "code",
      "execution_count": 7,
      "metadata": {
        "id": "yOnTJ8GztrUZ"
      },
      "outputs": [],
      "source": [
        "# Model instantiation and optimizer definition\n",
        "model = MLP()\n",
        "criterion = nn.CrossEntropyLoss()\n",
        "optimizer = optim.Adam(model.parameters(), lr=learning_rate)\n"
      ]
    },
    {
      "cell_type": "code",
      "execution_count": 8,
      "metadata": {
        "id": "Mtxcta4LttlR"
      },
      "outputs": [],
      "source": [
        "# Function to compute similarity matrix between weights\n",
        "def compute_similarity_matrix(model):\n",
        "    similarity_matrices = []\n",
        "    for param in model.parameters():\n",
        "        if len(param.data.size()) > 1:  # Only for weights\n",
        "            weight_data = param.data.view(param.data.size(0), -1)  # Convert weights to a vector\n",
        "            similarity_matrix = torch.cdist(weight_data, weight_data, p=2)  # Compute distance matrix\n",
        "            similarity_matrices.append(similarity_matrix)\n",
        "    return similarity_matrices\n"
      ]
    },
    {
      "cell_type": "code",
      "execution_count": 11,
      "metadata": {
        "id": "ZEmgROxltwFK"
      },
      "outputs": [],
      "source": [
        "# Function to prune weights based on similarity\n",
        "def prune_weights(model, similarity_matrices, prune_percentage):\n",
        "    with torch.no_grad():\n",
        "        index = 0\n",
        "        for name, param in model.named_parameters():\n",
        "            if len(param.data.size()) > 1:  # Only for weights\n",
        "                similarity_matrix = similarity_matrices[index]\n",
        "                num_prune = int(similarity_matrix.numel() * prune_percentage)\n",
        "                _, indices = torch.topk(similarity_matrix.view(-1), num_prune)\n",
        "\n",
        "                # Create a mask of ones with the same shape as the weight parameter\n",
        "                mask = torch.ones_like(param.data)\n",
        "\n",
        "                # Flatten the mask and set the indices corresponding to low similarity weights to 0\n",
        "                mask_flat = mask.view(-1)\n",
        "                mask_flat[indices] = 0\n",
        "\n",
        "                # Reshape the flattened mask to match the shape of the weight parameter\n",
        "                mask = mask_flat.view(param.data.shape)\n",
        "\n",
        "                # Apply the mask to the weight parameter\n",
        "                param.data *= mask\n",
        "                index += 1\n"
      ]
    },
    {
      "cell_type": "code",
      "execution_count": 15,
      "metadata": {
        "id": "LoFpaPTUty9x"
      },
      "outputs": [],
      "source": [
        "\n",
        "import matplotlib.pyplot as plt\n",
        "\n",
        "# Lists to store the results\n",
        "pruning_details = []\n",
        "accuracy_vs_pruning = []\n",
        "\n",
        "# Pruning percentages\n",
        "prune_percentages = [0.1, 0.2, 0.3, 0.4, 0.5, 0.6, 0.7, 0.8, 0.9]   # Different pruning percentages\n",
        "max_pruning_with_no_accuracy_drop = 0\n",
        "max_accuracy = 0\n",
        "\n",
        "\n",
        "\n",
        "\n"
      ]
    },
    {
      "cell_type": "code",
      "execution_count": 17,
      "metadata": {
        "id": "7iP6F5Wnw8VR"
      },
      "outputs": [],
      "source": [
        "def num_pruned_weights(model):\n",
        "    num_pruned = 0\n",
        "    for name, param in model.named_parameters():\n",
        "        if len(param.data.size()) > 1:  # Only for weights\n",
        "            num_pruned += (param.data == 0).sum().item()\n",
        "    return num_pruned\n"
      ]
    },
    {
      "cell_type": "code",
      "execution_count": 21,
      "metadata": {
        "colab": {
          "base_uri": "https://localhost:8080/"
        },
        "id": "zt0YA7LWwoOA",
        "outputId": "5065c82e-4e7d-4a14-adf5-a4af4427fa24"
      },
      "outputs": [
        {
          "name": "stdout",
          "output_type": "stream",
          "text": [
            "prune percentage 10.0 %\n",
            "Pruning Percentage: 10.0٪, Epoch 1, Training Loss: 0.1008360286760132, Accuracy on Validation Set: 0.8907, Number of Pruned Weights: 11721\n",
            "Pruning Percentage: 10.0٪, Epoch 2, Training Loss: 0.09668103275913507, Accuracy on Validation Set: 0.8899, Number of Pruned Weights: 11593\n",
            "Pruning Percentage: 10.0٪, Epoch 3, Training Loss: 0.10002667143050095, Accuracy on Validation Set: 0.8807, Number of Pruned Weights: 11461\n",
            "Pruning Percentage: 10.0٪, Epoch 4, Training Loss: 0.0863420534861105, Accuracy on Validation Set: 0.8914, Number of Pruned Weights: 11326\n",
            "Pruning Percentage: 10.0٪, Epoch 5, Training Loss: 0.09458072957001588, Accuracy on Validation Set: 0.8913, Number of Pruned Weights: 11246\n",
            "Pruning Percentage: 10.0٪, Epoch 6, Training Loss: 0.09017613829980554, Accuracy on Validation Set: 0.8904, Number of Pruned Weights: 11154\n",
            "Pruning Percentage: 10.0٪, Epoch 7, Training Loss: 0.08383217965052618, Accuracy on Validation Set: 0.8849, Number of Pruned Weights: 11126\n",
            "Pruning Percentage: 10.0٪, Epoch 8, Training Loss: 0.08163464051829722, Accuracy on Validation Set: 0.8925, Number of Pruned Weights: 11073\n",
            "Pruning Percentage: 10.0٪, Epoch 9, Training Loss: 0.07517351807378557, Accuracy on Validation Set: 0.8914, Number of Pruned Weights: 11018\n",
            "Pruning Percentage: 10.0٪, Epoch 10, Training Loss: 0.08036061659124215, Accuracy on Validation Set: 0.8902, Number of Pruned Weights: 10980\n",
            "prune percentage 20.0 %\n",
            "Pruning Percentage: 20.0٪, Epoch 1, Training Loss: 0.08519758475358452, Accuracy on Validation Set: 0.883, Number of Pruned Weights: 15614\n",
            "Pruning Percentage: 20.0٪, Epoch 2, Training Loss: 0.07631265555473897, Accuracy on Validation Set: 0.8919, Number of Pruned Weights: 15295\n",
            "Pruning Percentage: 20.0٪, Epoch 3, Training Loss: 0.07792868654486602, Accuracy on Validation Set: 0.8878, Number of Pruned Weights: 15002\n",
            "Pruning Percentage: 20.0٪, Epoch 4, Training Loss: 0.07386255702015745, Accuracy on Validation Set: 0.8924, Number of Pruned Weights: 14852\n",
            "Pruning Percentage: 20.0٪, Epoch 5, Training Loss: 0.07069097482331355, Accuracy on Validation Set: 0.8939, Number of Pruned Weights: 14770\n",
            "Pruning Percentage: 20.0٪, Epoch 6, Training Loss: 0.06910512309379714, Accuracy on Validation Set: 0.892, Number of Pruned Weights: 14691\n",
            "Pruning Percentage: 20.0٪, Epoch 7, Training Loss: 0.06618803166924282, Accuracy on Validation Set: 0.8898, Number of Pruned Weights: 14477\n",
            "Pruning Percentage: 20.0٪, Epoch 8, Training Loss: 0.07054714713474293, Accuracy on Validation Set: 0.8857, Number of Pruned Weights: 14408\n",
            "Pruning Percentage: 20.0٪, Epoch 9, Training Loss: 0.06139859739143778, Accuracy on Validation Set: 0.893, Number of Pruned Weights: 14205\n",
            "Pruning Percentage: 20.0٪, Epoch 10, Training Loss: 0.06419994114109737, Accuracy on Validation Set: 0.8919, Number of Pruned Weights: 14166\n",
            "prune percentage 30.0 %\n",
            "Pruning Percentage: 30.0٪, Epoch 1, Training Loss: 0.09189573354849978, Accuracy on Validation Set: 0.8963, Number of Pruned Weights: 19568\n",
            "Pruning Percentage: 30.0٪, Epoch 2, Training Loss: 0.06240354713616426, Accuracy on Validation Set: 0.8938, Number of Pruned Weights: 19174\n",
            "Pruning Percentage: 30.0٪, Epoch 3, Training Loss: 0.06519888763499382, Accuracy on Validation Set: 0.8918, Number of Pruned Weights: 18959\n",
            "Pruning Percentage: 30.0٪, Epoch 4, Training Loss: 0.07158345998118362, Accuracy on Validation Set: 0.8936, Number of Pruned Weights: 18688\n",
            "Pruning Percentage: 30.0٪, Epoch 5, Training Loss: 0.059550195918394645, Accuracy on Validation Set: 0.89, Number of Pruned Weights: 18444\n",
            "Pruning Percentage: 30.0٪, Epoch 6, Training Loss: 0.0618984891807951, Accuracy on Validation Set: 0.889, Number of Pruned Weights: 18318\n",
            "Pruning Percentage: 30.0٪, Epoch 7, Training Loss: 0.06157999006783306, Accuracy on Validation Set: 0.8936, Number of Pruned Weights: 18169\n",
            "Pruning Percentage: 30.0٪, Epoch 8, Training Loss: 0.05366732248121782, Accuracy on Validation Set: 0.8924, Number of Pruned Weights: 18082\n",
            "Pruning Percentage: 30.0٪, Epoch 9, Training Loss: 0.05930979023499967, Accuracy on Validation Set: 0.8888, Number of Pruned Weights: 18028\n",
            "Pruning Percentage: 30.0٪, Epoch 10, Training Loss: 0.062239869604827455, Accuracy on Validation Set: 0.8855, Number of Pruned Weights: 17961\n",
            "prune percentage 40.0 %\n",
            "Pruning Percentage: 40.0٪, Epoch 1, Training Loss: 0.08049256607796045, Accuracy on Validation Set: 0.8908, Number of Pruned Weights: 25549\n",
            "Pruning Percentage: 40.0٪, Epoch 2, Training Loss: 0.06144828446771559, Accuracy on Validation Set: 0.8904, Number of Pruned Weights: 25132\n",
            "Pruning Percentage: 40.0٪, Epoch 3, Training Loss: 0.06310856039114797, Accuracy on Validation Set: 0.8919, Number of Pruned Weights: 24853\n",
            "Pruning Percentage: 40.0٪, Epoch 4, Training Loss: 0.05964134447217045, Accuracy on Validation Set: 0.8917, Number of Pruned Weights: 24207\n",
            "Pruning Percentage: 40.0٪, Epoch 5, Training Loss: 0.05818296076815196, Accuracy on Validation Set: 0.8953, Number of Pruned Weights: 23870\n",
            "Pruning Percentage: 40.0٪, Epoch 6, Training Loss: 0.05528898136248119, Accuracy on Validation Set: 0.8865, Number of Pruned Weights: 23769\n",
            "Pruning Percentage: 40.0٪, Epoch 7, Training Loss: 0.058662511788539665, Accuracy on Validation Set: 0.8905, Number of Pruned Weights: 23675\n",
            "Pruning Percentage: 40.0٪, Epoch 8, Training Loss: 0.04956180189782039, Accuracy on Validation Set: 0.8921, Number of Pruned Weights: 23577\n",
            "Pruning Percentage: 40.0٪, Epoch 9, Training Loss: 0.05076861561702825, Accuracy on Validation Set: 0.8895, Number of Pruned Weights: 23519\n",
            "Pruning Percentage: 40.0٪, Epoch 10, Training Loss: 0.05723551463614435, Accuracy on Validation Set: 0.8902, Number of Pruned Weights: 23353\n",
            "prune percentage 50.0 %\n",
            "Pruning Percentage: 50.0٪, Epoch 1, Training Loss: 0.08512824161163986, Accuracy on Validation Set: 0.8908, Number of Pruned Weights: 32563\n",
            "Pruning Percentage: 50.0٪, Epoch 2, Training Loss: 0.0587332503542023, Accuracy on Validation Set: 0.8905, Number of Pruned Weights: 31718\n",
            "Pruning Percentage: 50.0٪, Epoch 3, Training Loss: 0.06243314458574752, Accuracy on Validation Set: 0.8858, Number of Pruned Weights: 31387\n",
            "Pruning Percentage: 50.0٪, Epoch 4, Training Loss: 0.05223513092003677, Accuracy on Validation Set: 0.8915, Number of Pruned Weights: 31178\n",
            "Pruning Percentage: 50.0٪, Epoch 5, Training Loss: 0.05566941277036751, Accuracy on Validation Set: 0.8897, Number of Pruned Weights: 30838\n",
            "Pruning Percentage: 50.0٪, Epoch 6, Training Loss: 0.04673136851352537, Accuracy on Validation Set: 0.8914, Number of Pruned Weights: 30652\n",
            "Pruning Percentage: 50.0٪, Epoch 7, Training Loss: 0.05815555305426221, Accuracy on Validation Set: 0.8917, Number of Pruned Weights: 29829\n",
            "Pruning Percentage: 50.0٪, Epoch 8, Training Loss: 0.04290223504239342, Accuracy on Validation Set: 0.8874, Number of Pruned Weights: 29723\n",
            "Pruning Percentage: 50.0٪, Epoch 9, Training Loss: 0.05044227551958878, Accuracy on Validation Set: 0.8913, Number of Pruned Weights: 29521\n",
            "Pruning Percentage: 50.0٪, Epoch 10, Training Loss: 0.05094230891716883, Accuracy on Validation Set: 0.8892, Number of Pruned Weights: 29339\n",
            "prune percentage 60.0 %\n",
            "Pruning Percentage: 60.0٪, Epoch 1, Training Loss: 0.09574224609795891, Accuracy on Validation Set: 0.8879, Number of Pruned Weights: 41351\n",
            "Pruning Percentage: 60.0٪, Epoch 2, Training Loss: 0.06009100531560608, Accuracy on Validation Set: 0.8879, Number of Pruned Weights: 40968\n",
            "Pruning Percentage: 60.0٪, Epoch 3, Training Loss: 0.05858561359232773, Accuracy on Validation Set: 0.884, Number of Pruned Weights: 40632\n",
            "Pruning Percentage: 60.0٪, Epoch 4, Training Loss: 0.04990616099402199, Accuracy on Validation Set: 0.8897, Number of Pruned Weights: 40358\n",
            "Pruning Percentage: 60.0٪, Epoch 5, Training Loss: 0.05079647325105248, Accuracy on Validation Set: 0.886, Number of Pruned Weights: 40280\n",
            "Pruning Percentage: 60.0٪, Epoch 6, Training Loss: 0.05459208263653269, Accuracy on Validation Set: 0.8914, Number of Pruned Weights: 40089\n",
            "Pruning Percentage: 60.0٪, Epoch 7, Training Loss: 0.04688362954848367, Accuracy on Validation Set: 0.8884, Number of Pruned Weights: 40015\n",
            "Pruning Percentage: 60.0٪, Epoch 8, Training Loss: 0.04747364918957851, Accuracy on Validation Set: 0.8905, Number of Pruned Weights: 39873\n",
            "Pruning Percentage: 60.0٪, Epoch 9, Training Loss: 0.047235190878054154, Accuracy on Validation Set: 0.8866, Number of Pruned Weights: 39796\n",
            "Pruning Percentage: 60.0٪, Epoch 10, Training Loss: 0.045745285382848486, Accuracy on Validation Set: 0.8888, Number of Pruned Weights: 38685\n",
            "prune percentage 70.0 %\n",
            "Pruning Percentage: 70.0٪, Epoch 1, Training Loss: 0.10854727664636091, Accuracy on Validation Set: 0.8896, Number of Pruned Weights: 51370\n",
            "Pruning Percentage: 70.0٪, Epoch 2, Training Loss: 0.06478580043983438, Accuracy on Validation Set: 0.8896, Number of Pruned Weights: 48692\n",
            "Pruning Percentage: 70.0٪, Epoch 3, Training Loss: 0.05506560678088852, Accuracy on Validation Set: 0.8933, Number of Pruned Weights: 48446\n",
            "Pruning Percentage: 70.0٪, Epoch 4, Training Loss: 0.054266175181787134, Accuracy on Validation Set: 0.8844, Number of Pruned Weights: 48224\n",
            "Pruning Percentage: 70.0٪, Epoch 5, Training Loss: 0.056889200981324085, Accuracy on Validation Set: 0.8835, Number of Pruned Weights: 47908\n",
            "Pruning Percentage: 70.0٪, Epoch 6, Training Loss: 0.04696246205962768, Accuracy on Validation Set: 0.8929, Number of Pruned Weights: 47762\n",
            "Pruning Percentage: 70.0٪, Epoch 7, Training Loss: 0.052112958986265105, Accuracy on Validation Set: 0.8865, Number of Pruned Weights: 47417\n",
            "Pruning Percentage: 70.0٪, Epoch 8, Training Loss: 0.04974874984958302, Accuracy on Validation Set: 0.8909, Number of Pruned Weights: 47231\n",
            "Pruning Percentage: 70.0٪, Epoch 9, Training Loss: 0.04312971012388139, Accuracy on Validation Set: 0.891, Number of Pruned Weights: 47135\n",
            "Pruning Percentage: 70.0٪, Epoch 10, Training Loss: 0.04448211672881087, Accuracy on Validation Set: 0.89, Number of Pruned Weights: 47078\n",
            "prune percentage 80.0 %\n",
            "Pruning Percentage: 80.0٪, Epoch 1, Training Loss: 0.1125916151896767, Accuracy on Validation Set: 0.8822, Number of Pruned Weights: 68312\n",
            "Pruning Percentage: 80.0٪, Epoch 2, Training Loss: 0.06546154388886355, Accuracy on Validation Set: 0.8862, Number of Pruned Weights: 67677\n",
            "Pruning Percentage: 80.0٪, Epoch 3, Training Loss: 0.05816558613638391, Accuracy on Validation Set: 0.8915, Number of Pruned Weights: 67367\n",
            "Pruning Percentage: 80.0٪, Epoch 4, Training Loss: 0.04966133550028888, Accuracy on Validation Set: 0.8846, Number of Pruned Weights: 67181\n",
            "Pruning Percentage: 80.0٪, Epoch 5, Training Loss: 0.05065485638873878, Accuracy on Validation Set: 0.8882, Number of Pruned Weights: 67067\n",
            "Pruning Percentage: 80.0٪, Epoch 6, Training Loss: 0.0509736908914145, Accuracy on Validation Set: 0.8891, Number of Pruned Weights: 66909\n",
            "Pruning Percentage: 80.0٪, Epoch 7, Training Loss: 0.05229624449568333, Accuracy on Validation Set: 0.8848, Number of Pruned Weights: 66790\n",
            "Pruning Percentage: 80.0٪, Epoch 8, Training Loss: 0.04911335913642399, Accuracy on Validation Set: 0.8891, Number of Pruned Weights: 66522\n",
            "Pruning Percentage: 80.0٪, Epoch 9, Training Loss: 0.03595442694889934, Accuracy on Validation Set: 0.8878, Number of Pruned Weights: 66439\n",
            "Pruning Percentage: 80.0٪, Epoch 10, Training Loss: 0.04835314383020784, Accuracy on Validation Set: 0.8841, Number of Pruned Weights: 66311\n",
            "prune percentage 90.0 %\n",
            "Pruning Percentage: 90.0٪, Epoch 1, Training Loss: 0.12744965923407003, Accuracy on Validation Set: 0.8857, Number of Pruned Weights: 88908\n",
            "Pruning Percentage: 90.0٪, Epoch 2, Training Loss: 0.07576489338920454, Accuracy on Validation Set: 0.886, Number of Pruned Weights: 88501\n",
            "Pruning Percentage: 90.0٪, Epoch 3, Training Loss: 0.06088098187027547, Accuracy on Validation Set: 0.8834, Number of Pruned Weights: 88097\n",
            "Pruning Percentage: 90.0٪, Epoch 4, Training Loss: 0.05631106055375603, Accuracy on Validation Set: 0.8857, Number of Pruned Weights: 87853\n",
            "Pruning Percentage: 90.0٪, Epoch 5, Training Loss: 0.055473989362993976, Accuracy on Validation Set: 0.882, Number of Pruned Weights: 87782\n",
            "Pruning Percentage: 90.0٪, Epoch 6, Training Loss: 0.04736446391734833, Accuracy on Validation Set: 0.8885, Number of Pruned Weights: 87130\n",
            "Pruning Percentage: 90.0٪, Epoch 7, Training Loss: 0.05052525833118981, Accuracy on Validation Set: 0.8851, Number of Pruned Weights: 86933\n",
            "Pruning Percentage: 90.0٪, Epoch 8, Training Loss: 0.04590192810370875, Accuracy on Validation Set: 0.8856, Number of Pruned Weights: 86835\n",
            "Pruning Percentage: 90.0٪, Epoch 9, Training Loss: 0.042724337917953534, Accuracy on Validation Set: 0.8787, Number of Pruned Weights: 86820\n",
            "Pruning Percentage: 90.0٪, Epoch 10, Training Loss: 0.04035830388486962, Accuracy on Validation Set: 0.8878, Number of Pruned Weights: 86779\n"
          ]
        }
      ],
      "source": [
        "for prune_percentage in prune_percentages:\n",
        "    # Compute similarity matrices\n",
        "    similarity_matrices = compute_similarity_matrix(model)\n",
        "\n",
        "    # Prune low similarity weights\n",
        "    prune_weights(model, similarity_matrices, prune_percentage)\n",
        "    print(f\"prune percentage {prune_percentage * 100} %\")\n",
        "    # Train model with pruned weights\n",
        "    for epoch in range(num_epochs):\n",
        "        model.train()\n",
        "        running_loss = 0.0\n",
        "        for images, labels in train_loader:\n",
        "            optimizer.zero_grad()\n",
        "            outputs = model(images)\n",
        "            loss = criterion(outputs, labels)\n",
        "            loss.backward()\n",
        "            optimizer.step()\n",
        "            running_loss += loss.item()\n",
        "\n",
        "        # Compute accuracy on validation set\n",
        "        accuracy = evaluate_accuracy(model, val_loader)\n",
        "\n",
        "        # Record the results\n",
        "        pruning_details.append((prune_percentage, epoch+1, running_loss/len(train_loader), accuracy, num_pruned_weights(model)))\n",
        "\n",
        "        # Update maximum pruning percentage with no accuracy drop\n",
        "        if accuracy > max_accuracy:\n",
        "            max_accuracy = accuracy\n",
        "            max_pruning_with_no_accuracy_drop = prune_percentage\n",
        "\n",
        "        # Report results\n",
        "        print(f\"Pruning Percentage: {prune_percentage * 100}٪, Epoch {epoch+1}, Training Loss: {running_loss/len(train_loader)}, Accuracy on Validation Set: {accuracy}, Number of Pruned Weights: {num_pruned_weights(model)}\")\n",
        "\n",
        "    # Record accuracy for plotting\n",
        "    accuracy_vs_pruning.append((prune_percentage, accuracy))"
      ]
    },
    {
      "cell_type": "code",
      "execution_count": 22,
      "metadata": {
        "colab": {
          "base_uri": "https://localhost:8080/",
          "height": 526
        },
        "id": "qc38FSbUwjMh",
        "outputId": "2e8c4cb4-4b52-479d-eed6-fad5a7a251a4"
      },
      "outputs": [
        {
          "name": "stdout",
          "output_type": "stream",
          "text": [
            "Maximum pruning percentage with no accuracy drop: 0.3\n",
            "Area under the curve: 0.71087\n",
            "Area under the curve is less than 75%\n"
          ]
        },
        {
          "data": {
            "image/png": "[encoded data removed]",
            "text/plain": [
              "<Figure size 640x480 with 1 Axes>"
            ]
          },
          "metadata": {},
          "output_type": "display_data"
        }
      ],
      "source": [
        "# Plot accuracy vs pruning percentage\n",
        "pruning_percentages, accuracies = zip(*accuracy_vs_pruning)\n",
        "plt.plot(pruning_percentages, accuracies, marker='o', linestyle='-')\n",
        "plt.xlabel('Pruning Percentage')\n",
        "plt.ylabel('Accuracy on Validation Set')\n",
        "plt.title('Accuracy vs Pruning Percentage')\n",
        "plt.grid(True)\n",
        "\n",
        "# Calculate area under the curve\n",
        "area_under_curve = 0\n",
        "for i in range(1, len(pruning_percentages)):\n",
        "    area_under_curve += (pruning_percentages[i] - pruning_percentages[i-1]) * (accuracies[i] + accuracies[i-1]) / 2\n",
        "\n",
        "print(f\"Maximum pruning percentage with no accuracy drop: {max_pruning_with_no_accuracy_drop}\")\n",
        "print(f\"Area under the curve: {area_under_curve}\")\n",
        "\n",
        "# Check if area under the curve is at least 75%\n",
        "if area_under_curve >= 0.75:\n",
        "    print(\"Area under the curve is at least 75%\")\n",
        "else:\n",
        "    print(\"Area under the curve is less than 75%\")\n",
        "\n",
        "plt.show()"
      ]
    },
    {
      "cell_type": "code",
      "execution_count": null,
      "metadata": {
        "id": "vfh9ahDk9Uy4"
      },
      "outputs": [],
      "source": []
    },
    {
      "cell_type": "markdown",
      "metadata": {
        "id": "DHZA6kBO8ZIq"
      },
      "source": [
        "-----------------------------------------------------\n"
      ]
    }
  ],
  "metadata": {
    "accelerator": "GPU",
    "colab": {
      "gpuType": "T4",
      "provenance": []
    },
    "kernelspec": {
      "display_name": "Python 3",
      "name": "python3"
    },
    "language_info": {
      "name": "python"
    }
  },
  "nbformat": 4,
  "nbformat_minor": 0
}
