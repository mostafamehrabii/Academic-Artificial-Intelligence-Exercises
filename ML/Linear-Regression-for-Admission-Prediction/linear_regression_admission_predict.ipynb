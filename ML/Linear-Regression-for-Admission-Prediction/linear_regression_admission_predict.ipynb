{
  "cells": [
    {
      "cell_type": "markdown",
      "metadata": {
        "id": "BZuSykNYOoAp"
      },
      "source": [
        "## 📌import libraries"
      ]
    },
    {
      "cell_type": "code",
      "execution_count": 1,
      "metadata": {
        "id": "p2sgE1UY2lw7"
      },
      "outputs": [],
      "source": [
        "import numpy as np\n",
        "import pandas as pd\n",
        "import matplotlib.pyplot as plt"
      ]
    },
    {
      "cell_type": "markdown",
      "metadata": {
        "id": "FcBhP1XBOoAr"
      },
      "source": [
        "## 📌Load the dataset from a CSV file\n"
      ]
    },
    {
      "cell_type": "code",
      "execution_count": 2,
      "metadata": {
        "id": "rQyedq-u2oE7"
      },
      "outputs": [],
      "source": [
        "\n",
        "def load_data(file_path):\n",
        "    return pd.read_csv(file_path)"
      ]
    },
    {
      "cell_type": "markdown",
      "metadata": {
        "id": "3A4uZ9rbOoAr"
      },
      "source": [
        "## 📌Pre-process the data: drop unnecessary columns and normalize features"
      ]
    },
    {
      "cell_type": "markdown",
      "metadata": {},
      "source": [
        "-       Feature1  Feature2  Feature3\n",
        "- 0       10        20        30\n",
        "- 1       20        30        40\n",
        "- 2       30        40        50\n",
        "- 3       40        50        60\n",
        "\n",
        "\n",
        "------------------------------------------\n",
        "\n",
        "- Mean(Feature1) = (10 + 20 + 30 + 40) / 4 = 25 \n",
        "- Mean(Feature2) = (20 + 30 + 40 + 50) / 4 = 35\n",
        "- Mean(Feature3) = (30 + 40 + 50 + 60) / 4 = 45\n",
        "\n",
        "-----------------------------------------\n",
        "\n",
        "- Std(Feature1) = sqrt(((10-25)^2 + (20-25)^2 + (30-25)^2 + (40-25)^2) / 4) = sqrt(250) = 15.81\n",
        "- Std(Feature2) = sqrt(((20-35)^2 + (30-35)^2 + (40-35)^2 + (50-35)^2) / 4) = sqrt(250) = 15.81\n",
        "- Std(Feature3) = sqrt(((30-45)^2 + (40-45)^2 + (50-45)^2 + (60-45)^2) / 4) = sqrt(250) = 15.81\n",
        "\n",
        "\n",
        "-------------------------------------------\n",
        "\n",
        "\n",
        "> algebraic furmula : X_normalized = (original - mean ) / std"
      ]
    },
    {
      "cell_type": "code",
      "execution_count": 3,
      "metadata": {
        "id": "HvH5ojDD2rFQ"
      },
      "outputs": [],
      "source": [
        "def preprocess_data(data):\n",
        "    data = data.drop(columns=['Serial No.'])  # Drop 'Serial No.' column\n",
        "    data.iloc[:, :-1] = (data.iloc[:, :-1] - data.iloc[:, :-1].mean()) / data.iloc[:, :-1].std()  # Normalize features\n",
        "    return data"
      ]
    },
    {
      "cell_type": "markdown",
      "metadata": {
        "id": "Bsw4b3SJOoAr"
      },
      "source": [
        "## 📌Split the data into training and testing sets\n"
      ]
    },
    {
      "cell_type": "code",
      "execution_count": 4,
      "metadata": {
        "id": "pQtuYtMv2uF7"
      },
      "outputs": [],
      "source": [
        "def split_data(data, train_ratio):\n",
        "    train_size = int(train_ratio * len(data))\n",
        "    train_data = data[:train_size]\n",
        "    test_data = data[train_size:]\n",
        "    return train_data, test_data\n"
      ]
    },
    {
      "cell_type": "markdown",
      "metadata": {
        "id": "ctjpimJ7TUR-"
      },
      "source": [
        "## 📌Training phase\n",
        "- linear regression model using gradient descent\n"
      ]
    },
    {
      "cell_type": "code",
      "execution_count": 5,
      "metadata": {
        "colab": {
          "base_uri": "https://localhost:8080/"
        },
        "id": "p-h1tPzRYuGg",
        "outputId": "983a786b-a076-405d-af80-78c7d353c1e9"
      },
      "outputs": [
        {
          "name": "stdout",
          "output_type": "stream",
          "text": [
            "[[0.]\n",
            " [0.]\n",
            " [0.]\n",
            " [0.]\n",
            " [0.]]\n"
          ]
        }
      ],
      "source": [
        "n = 5\n",
        "theta = np.zeros((n, 1))\n",
        "print(theta)\n"
      ]
    },
    {
      "cell_type": "code",
      "execution_count": 6,
      "metadata": {
        "id": "Y8scAyCk4-KF"
      },
      "outputs": [],
      "source": [
        "def train_model(X_train, y_train, alpha, iterations):\n",
        "\n",
        "    # m = X_train.shape[0]\n",
        "    m = len(y_train) # Number of samples (rows)\n",
        "    n = X_train.shape[1]  # Number of features (columns)\n",
        "    theta = np.zeros((n, 1))  # Initialize theta with zeros\n",
        "    cost_history = []\n",
        "\n",
        "    for i in range(iterations):  \n",
        "        \n",
        "        predictions = np.dot(X_train, theta)\n",
        "\n",
        "        # Error\n",
        "        error = predictions - y_train\n",
        "\n",
        "        # Update theta\n",
        "        theta -= (alpha / m) * np.dot(X_train.T, error)\n",
        "\n",
        "        # Cost calculation and printing progress\n",
        "        if i % 100 == 0:\n",
        "            cost = np.sum(error ** 2) / (2 * m)\n",
        "            print(f\"Iteration {i}: Cost = {cost:.4f}\")\n",
        "            cost_history.append(cost)\n",
        "\n",
        "    return theta, cost_history\n"
      ]
    },
    {
      "cell_type": "markdown",
      "metadata": {
        "id": "fMWtQ5GDTp8Y"
      },
      "source": [
        "## 📌Evaluation phase"
      ]
    },
    {
      "cell_type": "code",
      "execution_count": 7,
      "metadata": {
        "id": "LfFOEU9c5CcX"
      },
      "outputs": [],
      "source": [
        "\n",
        "def test_model(test_data, theta_trained):\n",
        " \n",
        "    X_test = test_data.iloc[:, :-1].values  # Features\n",
        "    y_test = test_data.iloc[:, -1].values.reshape(-1, 1)  # Target\n",
        "\n",
        "    # Add bias term to features\n",
        "    X_test = np.hstack((np.ones((X_test.shape[0], 1)), X_test))\n",
        "\n",
        "    # Predictions\n",
        "    predictions_test = np.dot(X_test, theta_trained)\n",
        "\n",
        "    #Mean Squared Error \n",
        "    mse = np.mean((predictions_test - y_test) ** 2)\n",
        "\n",
        "    # Print evaluation metrics\n",
        "\n",
        "    print(\"---------------------💡💡💡-------------------------\")\n",
        "    print(f\"Evaluation Metrics:\\nMean Squared Error on evaluation :  {mse :.4f}\")\n",
        "    \n",
        "    return mse\n"
      ]
    },
    {
      "cell_type": "markdown",
      "metadata": {
        "id": "yCU7xZzIixuC"
      },
      "source": [
        "## plotting 📊"
      ]
    },
    {
      "cell_type": "code",
      "execution_count": 8,
      "metadata": {
        "id": "_OnCFoJa3Jhj"
      },
      "outputs": [],
      "source": [
        "def plot_error(cost_history):\n",
        "    plt.plot(range(len(cost_history)), cost_history,'b')\n",
        "    plt.xlabel('Iterations')\n",
        "    plt.ylabel('Cost')\n",
        "    plt.title('Gradient Descent: Cost vs. Iterations')\n",
        "    plt.show()\n"
      ]
    },
    {
      "cell_type": "markdown",
      "metadata": {
        "id": "6Obe7hVji8tc"
      },
      "source": [
        "## access to google colab account🗝️"
      ]
    },
    {
      "cell_type": "code",
      "execution_count": 9,
      "metadata": {
        "colab": {
          "base_uri": "https://localhost:8080/"
        },
        "id": "9HHflo66QP9i",
        "outputId": "07947ca1-e528-45fc-8d25-a3c44d4637dc"
      },
      "outputs": [],
      "source": [
        "# from google.colab import drive\n",
        "# drive.mount('/content/drive')"
      ]
    },
    {
      "cell_type": "markdown",
      "metadata": {
        "id": "51KhOByvjEz2"
      },
      "source": [
        "## file path 🛣️"
      ]
    },
    {
      "cell_type": "code",
      "execution_count": 10,
      "metadata": {
        "id": "jiSezoSu6m9k"
      },
      "outputs": [],
      "source": [
        "# file_path = '/content/drive/MyDrive/Shahid_Beheshti/402-403/Admission_Predict.csv'\n",
        "file_path = './Admission_Predict.csv'\n",
        "data = load_data(file_path)"
      ]
    },
    {
      "cell_type": "markdown",
      "metadata": {
        "id": "2l3vJgg2jMHj"
      },
      "source": [
        "## Configuration 🛠️ and running the code 🏃‍♂️"
      ]
    },
    {
      "cell_type": "code",
      "execution_count": 11,
      "metadata": {
        "id": "MVKZnawg6o4b"
      },
      "outputs": [],
      "source": [
        "\n",
        "data = preprocess_data(data)\n",
        "train_data, test_data = split_data(data, train_ratio=0.8)"
      ]
    },
    {
      "cell_type": "code",
      "execution_count": 12,
      "metadata": {
        "colab": {
          "base_uri": "https://localhost:8080/"
        },
        "id": "7s5kJXY76r5d",
        "outputId": "4b84b178-e942-4d55-9e69-ce1c172de16e"
      },
      "outputs": [
        {
          "name": "stdout",
          "output_type": "stream",
          "text": [
            "Iteration 0: Cost = 0.2759\n",
            "Iteration 100: Cost = 0.0369\n",
            "Iteration 200: Cost = 0.0069\n",
            "Iteration 300: Cost = 0.0028\n",
            "Iteration 400: Cost = 0.0022\n",
            "Iteration 500: Cost = 0.0021\n",
            "Iteration 600: Cost = 0.0020\n",
            "Iteration 700: Cost = 0.0020\n",
            "Iteration 800: Cost = 0.0020\n",
            "Iteration 900: Cost = 0.0020\n",
            "---------------------💡💡💡-------------------------\n",
            "Evaluation Metrics:\n",
            "Mean Squared Error on evaluation :  0.0042\n"
          ]
        }
      ],
      "source": [
        "alpha = 0.01  # Learning rate\n",
        "iterations = 1000\n",
        "X_train = train_data.iloc[:, :-1].values\n",
        "# X_train = np.c_[np.ones(X_train.shape[0]), X_train]  # Add bias term\n",
        "X_train = np.hstack((np.ones((X_train.shape[0], 1)), X_train))\n",
        "\n",
        "y_train = train_data.iloc[:, -1].values.reshape(-1, 1)\n",
        "\n",
        "theta_trained, cost_history = train_model(X_train, y_train, alpha, iterations)\n",
        "mse = test_model(test_data, theta_trained)\n",
        "\n"
      ]
    },
    {
      "cell_type": "code",
      "execution_count": 13,
      "metadata": {
        "colab": {
          "base_uri": "https://localhost:8080/",
          "height": 472
        },
        "id": "xJZ9GFB13M__",
        "outputId": "64247784-210b-4bae-e9da-37c0a691b276"
      },
      "outputs": [
        {
          "data": {
            "image/png": "[encoded data removed]",
            "text/plain": [
              "<Figure size 640x480 with 1 Axes>"
            ]
          },
          "metadata": {},
          "output_type": "display_data"
        }
      ],
      "source": [
        "\n",
        "plot_error(cost_history)\n"
      ]
    },
    {
      "cell_type": "markdown",
      "metadata": {},
      "source": [
        "- R^2 = 1 - (Σ(e_i)^2 / Σ(y_i - ȳ)^2)\n",
        "\n",
        "> Σ(e_i)^2: sum of squared errors (distance between data points and regression line)\n",
        "\n",
        "> Σ(y_i - ȳ)^2: sum of squares of deviations (distance between data points and mean of variable Y)"
      ]
    },
    {
      "cell_type": "markdown",
      "metadata": {},
      "source": []
    },
    {
      "cell_type": "code",
      "execution_count": 14,
      "metadata": {
        "id": "cCISKB6l4KQL"
      },
      "outputs": [],
      "source": [
        "def test_model_R2(test_data, theta_trained):\n",
        "\n",
        "    X_test = test_data.iloc[:, :-1].values  # Features\n",
        "    y_test = test_data.iloc[:, -1].values.reshape(-1, 1)  # Target\n",
        "\n",
        "    # Add bias term to features for linear regression\n",
        "    X_test = np.hstack((np.ones((X_test.shape[0], 1)), X_test))\n",
        "\n",
        "    predictions_test = np.dot(X_test, theta_trained)\n",
        "\n",
        "    # Calculate Mean Squared Error (MSE)\n",
        "    # mse = np.mean((predictions_test - y_test) ** 2)\n",
        "\n",
        "    # Calculate R-squared (coefficient of determination)\n",
        "    y_mean = np.mean(y_test)\n",
        "    sst = np.sum((y_test - y_mean) ** 2)  # Total sum of squares\n",
        "    ssr = np.sum((predictions_test - y_test) ** 2)  # Regression sum of squares\n",
        "    r_squared = 1 - (ssr / sst) \n",
        "\n",
        "    print(\"---------------------------------------------\")\n",
        "    print(f\"Evaluation Metrics:\\nRSquared :  {r_squared :.4f}\")\n",
        "    \n",
        "    # return r_squared"
      ]
    },
    {
      "cell_type": "code",
      "execution_count": 15,
      "metadata": {},
      "outputs": [
        {
          "name": "stdout",
          "output_type": "stream",
          "text": [
            "---------------------------------------------\n",
            "Evaluation Metrics:\n",
            "RSquared :  0.8097\n"
          ]
        }
      ],
      "source": [
        "test_model_R2(test_data, theta_trained)"
      ]
    },
    {
      "cell_type": "code",
      "execution_count": null,
      "metadata": {},
      "outputs": [],
      "source": []
    }
  ],
  "metadata": {
    "colab": {
      "provenance": []
    },
    "kernelspec": {
      "display_name": "Python 3",
      "name": "python3"
    },
    "language_info": {
      "codemirror_mode": {
        "name": "ipython",
        "version": 3
      },
      "file_extension": ".py",
      "mimetype": "text/x-python",
      "name": "python",
      "nbconvert_exporter": "python",
      "pygments_lexer": "ipython3",
      "version": "3.12.2"
    }
  },
  "nbformat": 4,
  "nbformat_minor": 0
}
