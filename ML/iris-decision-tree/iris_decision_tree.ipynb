{
  "cells": [
    {
      "cell_type": "code",
      "execution_count": 1,
      "metadata": {
        "id": "ajkgdvFGeG-u"
      },
      "outputs": [],
      "source": [
        "import pandas as pd\n",
        "import numpy as np"
      ]
    },
    {
      "cell_type": "code",
      "execution_count": 2,
      "metadata": {
        "colab": {
          "base_uri": "https://localhost:8080/",
          "height": 206
        },
        "id": "Rd1Q9regPhyo",
        "outputId": "155fed19-f1ab-453f-97ff-fd7e34a61ec8"
      },
      "outputs": [
        {
          "data": {
            "application/vnd.google.colaboratory.intrinsic+json": {
              "summary": "{\n  \"name\": \"data\",\n  \"rows\": 150,\n  \"fields\": [\n    {\n      \"column\": \"sepal_length\",\n      \"properties\": {\n        \"dtype\": \"number\",\n        \"std\": 0.828066127977863,\n        \"min\": 4.3,\n        \"max\": 7.9,\n        \"num_unique_values\": 35,\n        \"samples\": [\n          6.2,\n          4.5,\n          5.6\n        ],\n        \"semantic_type\": \"\",\n        \"description\": \"\"\n      }\n    },\n    {\n      \"column\": \"sepal_width\",\n      \"properties\": {\n        \"dtype\": \"number\",\n        \"std\": 0.4335943113621737,\n        \"min\": 2.0,\n        \"max\": 4.4,\n        \"num_unique_values\": 23,\n        \"samples\": [\n          2.3,\n          4.0,\n          3.5\n        ],\n        \"semantic_type\": \"\",\n        \"description\": \"\"\n      }\n    },\n    {\n      \"column\": \"petal_length\",\n      \"properties\": {\n        \"dtype\": \"number\",\n        \"std\": 1.7644204199522626,\n        \"min\": 1.0,\n        \"max\": 6.9,\n        \"num_unique_values\": 43,\n        \"samples\": [\n          6.7,\n          3.8,\n          3.7\n        ],\n        \"semantic_type\": \"\",\n        \"description\": \"\"\n      }\n    },\n    {\n      \"column\": \"petal_width\",\n      \"properties\": {\n        \"dtype\": \"number\",\n        \"std\": 0.7631607417008411,\n        \"min\": 0.1,\n        \"max\": 2.5,\n        \"num_unique_values\": 22,\n        \"samples\": [\n          0.2,\n          1.2,\n          1.3\n        ],\n        \"semantic_type\": \"\",\n        \"description\": \"\"\n      }\n    },\n    {\n      \"column\": \"class\",\n      \"properties\": {\n        \"dtype\": \"category\",\n        \"num_unique_values\": 3,\n        \"samples\": [\n          \"Iris-setosa\",\n          \"Iris-versicolor\",\n          \"Iris-virginica\"\n        ],\n        \"semantic_type\": \"\",\n        \"description\": \"\"\n      }\n    }\n  ]\n}",
              "type": "dataframe",
              "variable_name": "data"
            },
            "text/html": [
              "\n",
              "  <div id=\"df-738628e8-9ff3-40e1-9fe7-e4ce327f38ce\" class=\"colab-df-container\">\n",
              "    <div>\n",
              "<style scoped>\n",
              "    .dataframe tbody tr th:only-of-type {\n",
              "        vertical-align: middle;\n",
              "    }\n",
              "\n",
              "    .dataframe tbody tr th {\n",
              "        vertical-align: top;\n",
              "    }\n",
              "\n",
              "    .dataframe thead th {\n",
              "        text-align: right;\n",
              "    }\n",
              "</style>\n",
              "<table border=\"1\" class=\"dataframe\">\n",
              "  <thead>\n",
              "    <tr style=\"text-align: right;\">\n",
              "      <th></th>\n",
              "      <th>sepal_length</th>\n",
              "      <th>sepal_width</th>\n",
              "      <th>petal_length</th>\n",
              "      <th>petal_width</th>\n",
              "      <th>class</th>\n",
              "    </tr>\n",
              "  </thead>\n",
              "  <tbody>\n",
              "    <tr>\n",
              "      <th>0</th>\n",
              "      <td>5.1</td>\n",
              "      <td>3.5</td>\n",
              "      <td>1.4</td>\n",
              "      <td>0.2</td>\n",
              "      <td>Iris-setosa</td>\n",
              "    </tr>\n",
              "    <tr>\n",
              "      <th>1</th>\n",
              "      <td>4.9</td>\n",
              "      <td>3.0</td>\n",
              "      <td>1.4</td>\n",
              "      <td>0.2</td>\n",
              "      <td>Iris-setosa</td>\n",
              "    </tr>\n",
              "    <tr>\n",
              "      <th>2</th>\n",
              "      <td>4.7</td>\n",
              "      <td>3.2</td>\n",
              "      <td>1.3</td>\n",
              "      <td>0.2</td>\n",
              "      <td>Iris-setosa</td>\n",
              "    </tr>\n",
              "    <tr>\n",
              "      <th>3</th>\n",
              "      <td>4.6</td>\n",
              "      <td>3.1</td>\n",
              "      <td>1.5</td>\n",
              "      <td>0.2</td>\n",
              "      <td>Iris-setosa</td>\n",
              "    </tr>\n",
              "    <tr>\n",
              "      <th>4</th>\n",
              "      <td>5.0</td>\n",
              "      <td>3.6</td>\n",
              "      <td>1.4</td>\n",
              "      <td>0.2</td>\n",
              "      <td>Iris-setosa</td>\n",
              "    </tr>\n",
              "  </tbody>\n",
              "</table>\n",
              "</div>\n",
              "    <div class=\"colab-df-buttons\">\n",
              "\n",
              "  <div class=\"colab-df-container\">\n",
              "    <button class=\"colab-df-convert\" onclick=\"convertToInteractive('df-738628e8-9ff3-40e1-9fe7-e4ce327f38ce')\"\n",
              "            title=\"Convert this dataframe to an interactive table.\"\n",
              "            style=\"display:none;\">\n",
              "\n",
              "  <svg xmlns=\"http://www.w3.org/2000/svg\" height=\"24px\" viewBox=\"0 -960 960 960\">\n",
              "    <path d=\"M120-120v-720h720v720H120Zm60-500h600v-160H180v160Zm220 220h160v-160H400v160Zm0 220h160v-160H400v160ZM180-400h160v-160H180v160Zm440 0h160v-160H620v160ZM180-180h160v-160H180v160Zm440 0h160v-160H620v160Z\"/>\n",
              "  </svg>\n",
              "    </button>\n",
              "\n",
              "  <style>\n",
              "    .colab-df-container {\n",
              "      display:flex;\n",
              "      gap: 12px;\n",
              "    }\n",
              "\n",
              "    .colab-df-convert {\n",
              "      background-color: #E8F0FE;\n",
              "      border: none;\n",
              "      border-radius: 50%;\n",
              "      cursor: pointer;\n",
              "      display: none;\n",
              "      fill: #1967D2;\n",
              "      height: 32px;\n",
              "      padding: 0 0 0 0;\n",
              "      width: 32px;\n",
              "    }\n",
              "\n",
              "    .colab-df-convert:hover {\n",
              "      background-color: #E2EBFA;\n",
              "      box-shadow: 0px 1px 2px rgba(60, 64, 67, 0.3), 0px 1px 3px 1px rgba(60, 64, 67, 0.15);\n",
              "      fill: #174EA6;\n",
              "    }\n",
              "\n",
              "    .colab-df-buttons div {\n",
              "      margin-bottom: 4px;\n",
              "    }\n",
              "\n",
              "    [theme=dark] .colab-df-convert {\n",
              "      background-color: #3B4455;\n",
              "      fill: #D2E3FC;\n",
              "    }\n",
              "\n",
              "    [theme=dark] .colab-df-convert:hover {\n",
              "      background-color: #434B5C;\n",
              "      box-shadow: 0px 1px 3px 1px rgba(0, 0, 0, 0.15);\n",
              "      filter: drop-shadow(0px 1px 2px rgba(0, 0, 0, 0.3));\n",
              "      fill: #FFFFFF;\n",
              "    }\n",
              "  </style>\n",
              "\n",
              "    <script>\n",
              "      const buttonEl =\n",
              "        document.querySelector('#df-738628e8-9ff3-40e1-9fe7-e4ce327f38ce button.colab-df-convert');\n",
              "      buttonEl.style.display =\n",
              "        google.colab.kernel.accessAllowed ? 'block' : 'none';\n",
              "\n",
              "      async function convertToInteractive(key) {\n",
              "        const element = document.querySelector('#df-738628e8-9ff3-40e1-9fe7-e4ce327f38ce');\n",
              "        const dataTable =\n",
              "          await google.colab.kernel.invokeFunction('convertToInteractive',\n",
              "                                                    [key], {});\n",
              "        if (!dataTable) return;\n",
              "\n",
              "        const docLinkHtml = 'Like what you see? Visit the ' +\n",
              "          '<a target=\"_blank\" href=https://colab.research.google.com/notebooks/data_table.ipynb>data table notebook</a>'\n",
              "          + ' to learn more about interactive tables.';\n",
              "        element.innerHTML = '';\n",
              "        dataTable['output_type'] = 'display_data';\n",
              "        await google.colab.output.renderOutput(dataTable, element);\n",
              "        const docLink = document.createElement('div');\n",
              "        docLink.innerHTML = docLinkHtml;\n",
              "        element.appendChild(docLink);\n",
              "      }\n",
              "    </script>\n",
              "  </div>\n",
              "\n",
              "\n",
              "<div id=\"df-6640490e-ee95-4a17-bbd8-5068901beb02\">\n",
              "  <button class=\"colab-df-quickchart\" onclick=\"quickchart('df-6640490e-ee95-4a17-bbd8-5068901beb02')\"\n",
              "            title=\"Suggest charts\"\n",
              "            style=\"display:none;\">\n",
              "\n",
              "<svg xmlns=\"http://www.w3.org/2000/svg\" height=\"24px\"viewBox=\"0 0 24 24\"\n",
              "     width=\"24px\">\n",
              "    <g>\n",
              "        <path d=\"M19 3H5c-1.1 0-2 .9-2 2v14c0 1.1.9 2 2 2h14c1.1 0 2-.9 2-2V5c0-1.1-.9-2-2-2zM9 17H7v-7h2v7zm4 0h-2V7h2v10zm4 0h-2v-4h2v4z\"/>\n",
              "    </g>\n",
              "</svg>\n",
              "  </button>\n",
              "\n",
              "<style>\n",
              "  .colab-df-quickchart {\n",
              "      --bg-color: #E8F0FE;\n",
              "      --fill-color: #1967D2;\n",
              "      --hover-bg-color: #E2EBFA;\n",
              "      --hover-fill-color: #174EA6;\n",
              "      --disabled-fill-color: #AAA;\n",
              "      --disabled-bg-color: #DDD;\n",
              "  }\n",
              "\n",
              "  [theme=dark] .colab-df-quickchart {\n",
              "      --bg-color: #3B4455;\n",
              "      --fill-color: #D2E3FC;\n",
              "      --hover-bg-color: #434B5C;\n",
              "      --hover-fill-color: #FFFFFF;\n",
              "      --disabled-bg-color: #3B4455;\n",
              "      --disabled-fill-color: #666;\n",
              "  }\n",
              "\n",
              "  .colab-df-quickchart {\n",
              "    background-color: var(--bg-color);\n",
              "    border: none;\n",
              "    border-radius: 50%;\n",
              "    cursor: pointer;\n",
              "    display: none;\n",
              "    fill: var(--fill-color);\n",
              "    height: 32px;\n",
              "    padding: 0;\n",
              "    width: 32px;\n",
              "  }\n",
              "\n",
              "  .colab-df-quickchart:hover {\n",
              "    background-color: var(--hover-bg-color);\n",
              "    box-shadow: 0 1px 2px rgba(60, 64, 67, 0.3), 0 1px 3px 1px rgba(60, 64, 67, 0.15);\n",
              "    fill: var(--button-hover-fill-color);\n",
              "  }\n",
              "\n",
              "  .colab-df-quickchart-complete:disabled,\n",
              "  .colab-df-quickchart-complete:disabled:hover {\n",
              "    background-color: var(--disabled-bg-color);\n",
              "    fill: var(--disabled-fill-color);\n",
              "    box-shadow: none;\n",
              "  }\n",
              "\n",
              "  .colab-df-spinner {\n",
              "    border: 2px solid var(--fill-color);\n",
              "    border-color: transparent;\n",
              "    border-bottom-color: var(--fill-color);\n",
              "    animation:\n",
              "      spin 1s steps(1) infinite;\n",
              "  }\n",
              "\n",
              "  @keyframes spin {\n",
              "    0% {\n",
              "      border-color: transparent;\n",
              "      border-bottom-color: var(--fill-color);\n",
              "      border-left-color: var(--fill-color);\n",
              "    }\n",
              "    20% {\n",
              "      border-color: transparent;\n",
              "      border-left-color: var(--fill-color);\n",
              "      border-top-color: var(--fill-color);\n",
              "    }\n",
              "    30% {\n",
              "      border-color: transparent;\n",
              "      border-left-color: var(--fill-color);\n",
              "      border-top-color: var(--fill-color);\n",
              "      border-right-color: var(--fill-color);\n",
              "    }\n",
              "    40% {\n",
              "      border-color: transparent;\n",
              "      border-right-color: var(--fill-color);\n",
              "      border-top-color: var(--fill-color);\n",
              "    }\n",
              "    60% {\n",
              "      border-color: transparent;\n",
              "      border-right-color: var(--fill-color);\n",
              "    }\n",
              "    80% {\n",
              "      border-color: transparent;\n",
              "      border-right-color: var(--fill-color);\n",
              "      border-bottom-color: var(--fill-color);\n",
              "    }\n",
              "    90% {\n",
              "      border-color: transparent;\n",
              "      border-bottom-color: var(--fill-color);\n",
              "    }\n",
              "  }\n",
              "</style>\n",
              "\n",
              "  <script>\n",
              "    async function quickchart(key) {\n",
              "      const quickchartButtonEl =\n",
              "        document.querySelector('#' + key + ' button');\n",
              "      quickchartButtonEl.disabled = true;  // To prevent multiple clicks.\n",
              "      quickchartButtonEl.classList.add('colab-df-spinner');\n",
              "      try {\n",
              "        const charts = await google.colab.kernel.invokeFunction(\n",
              "            'suggestCharts', [key], {});\n",
              "      } catch (error) {\n",
              "        console.error('Error during call to suggestCharts:', error);\n",
              "      }\n",
              "      quickchartButtonEl.classList.remove('colab-df-spinner');\n",
              "      quickchartButtonEl.classList.add('colab-df-quickchart-complete');\n",
              "    }\n",
              "    (() => {\n",
              "      let quickchartButtonEl =\n",
              "        document.querySelector('#df-6640490e-ee95-4a17-bbd8-5068901beb02 button');\n",
              "      quickchartButtonEl.style.display =\n",
              "        google.colab.kernel.accessAllowed ? 'block' : 'none';\n",
              "    })();\n",
              "  </script>\n",
              "</div>\n",
              "    </div>\n",
              "  </div>\n"
            ],
            "text/plain": [
              "   sepal_length  sepal_width  petal_length  petal_width        class\n",
              "0           5.1          3.5           1.4          0.2  Iris-setosa\n",
              "1           4.9          3.0           1.4          0.2  Iris-setosa\n",
              "2           4.7          3.2           1.3          0.2  Iris-setosa\n",
              "3           4.6          3.1           1.5          0.2  Iris-setosa\n",
              "4           5.0          3.6           1.4          0.2  Iris-setosa"
            ]
          },
          "execution_count": 2,
          "metadata": {},
          "output_type": "execute_result"
        }
      ],
      "source": [
        "\n",
        "\n",
        "# خواندن داده‌ها\n",
        "# url = \"https://archive.ics.uci.edu/ml/machine-learning-databases/iris/iris.data\"\n",
        "# columns = ['sepal_length', 'sepal_width', 'petal_length', 'petal_width', 'class']\n",
        "# data = pd.read_csv(url, names=columns)\n",
        "column_names = [\"sepal_length\", \"sepal_width\", \"petal_length\", \"petal_width\", \"class\"]\n",
        "data = pd.read_csv('./iris.data', header=None, names=column_names)\n",
        "\n",
        "# نمایش چند نمونه از داده‌ها\n",
        "data.head()\n"
      ]
    },
    {
      "cell_type": "code",
      "execution_count": 3,
      "metadata": {
        "colab": {
          "base_uri": "https://localhost:8080/",
          "height": 452
        },
        "id": "8qsyb3RL9BLl",
        "outputId": "8f2d6f3a-2b05-4371-d5b9-0c608c483ef5"
      },
      "outputs": [
        {
          "data": {
            "image/png": "[encoded data removed]",
            "text/plain": [
              "<Figure size 640x480 with 1 Axes>"
            ]
          },
          "metadata": {},
          "output_type": "display_data"
        }
      ],
      "source": [
        "\n",
        "from matplotlib import pyplot as plt\n",
        "data['petal_width'].plot(kind='hist', bins=20, title='petal_width')\n",
        "plt.gca().spines[['top', 'right',]].set_visible(False)"
      ]
    },
    {
      "cell_type": "code",
      "execution_count": 11,
      "metadata": {
        "colab": {
          "base_uri": "https://localhost:8080/",
          "height": 452
        },
        "id": "toWvpX_S89db",
        "outputId": "a5c8c6a7-b477-43b5-a92a-985890ddeec4"
      },
      "outputs": [
        {
          "data": {
            "image/png": "[encoded data removed]",
            "text/plain": [
              "<Figure size 640x480 with 1 Axes>"
            ]
          },
          "metadata": {},
          "output_type": "display_data"
        }
      ],
      "source": [
        "\n",
        "from matplotlib import pyplot as plt\n",
        "data['petal_length'].plot(kind='hist', bins=20, title='petal_length')\n",
        "plt.gca().spines[['top', 'right',]].set_visible(False)"
      ]
    },
    {
      "cell_type": "code",
      "execution_count": 7,
      "metadata": {
        "colab": {
          "base_uri": "https://localhost:8080/",
          "height": 452
        },
        "id": "3JtnLZrG85kv",
        "outputId": "43fbacfe-f02d-40d7-f352-4f8c268f965e"
      },
      "outputs": [
        {
          "data": {
            "image/png": "[encoded data removed]",
            "text/plain": [
              "<Figure size 640x480 with 1 Axes>"
            ]
          },
          "metadata": {},
          "output_type": "display_data"
        }
      ],
      "source": [
        "\n",
        "from matplotlib import pyplot as plt\n",
        "data['sepal_width'].plot(kind='hist', bins=20, title='sepal_width')\n",
        "plt.gca().spines[['top', 'right',]].set_visible(False)"
      ]
    },
    {
      "cell_type": "code",
      "execution_count": 6,
      "metadata": {
        "colab": {
          "base_uri": "https://localhost:8080/",
          "height": 452
        },
        "id": "UEL7fgRp81ZG",
        "outputId": "4fc3a6b8-6e42-4d7f-973c-9a9e61df416d"
      },
      "outputs": [
        {
          "data": {
            "image/png": "[encoded data removed]",
            "text/plain": [
              "<Figure size 640x480 with 1 Axes>"
            ]
          },
          "metadata": {},
          "output_type": "display_data"
        }
      ],
      "source": [
        "\n",
        "from matplotlib import pyplot as plt\n",
        "data['sepal_length'].plot(kind='hist', bins=20, title='sepal_length')\n",
        "plt.gca().spines[['top', 'right',]].set_visible(False)"
      ]
    },
    {
      "cell_type": "markdown",
      "metadata": {
        "id": "2B6dlO9kQrek"
      },
      "source": []
    },
    {
      "cell_type": "code",
      "execution_count": 3,
      "metadata": {
        "colab": {
          "base_uri": "https://localhost:8080/"
        },
        "id": "ALkZxr0Vdl-0",
        "outputId": "a3cdf12b-9585-4c6c-91b8-c81642780498"
      },
      "outputs": [
        {
          "name": "stdout",
          "output_type": "stream",
          "text": [
            " 150 records\n"
          ]
        }
      ],
      "source": [
        "# نمایش تعداد رکوردها\n",
        "print(f\" {len(data)} records\")"
      ]
    },
    {
      "cell_type": "code",
      "execution_count": 3,
      "metadata": {
        "id": "ZmJOPzZvdsjj"
      },
      "outputs": [],
      "source": [
        "\n",
        "def entropy(column):\n",
        "    \"\"\"محاسبه آنتروپی برای یک ستون\"\"\"\n",
        "    values, counts = np.unique(column, return_counts=True)\n",
        "    probabilities = counts / counts.sum()\n",
        "    entropy = -np.sum(probabilities * np.log2(probabilities))\n",
        "    return entropy"
      ]
    },
    {
      "cell_type": "code",
      "execution_count": 18,
      "metadata": {
        "id": "CrwvpPKKdwUt"
      },
      "outputs": [],
      "source": [
        "# محاسبه کاهش آنتروپی (Information Gain)\n",
        "\n",
        "def InfoGain(data, split_attribute_name, target_name=\"class\"):\n",
        "    # محاسبه آنتروپی کل\n",
        "    total_entropy = entropy(data[target_name])\n",
        "\n",
        "    # مقادیر منحصر به فرد ویژگی\n",
        "    vals, counts = np.unique(data[split_attribute_name], return_counts=True)\n",
        "    print(f'Values : {vals}, \\n\\nCounts : {counts}\\n')\n",
        "\n",
        "    # data.where(data['Feature1'] == 'A').dropna()['Target'] --> ['Yes', 'Yes', 'No']\n",
        "    #entropy(['Yes', 'Yes', 'No'])\n",
        "    weighted_entropy = np.sum([(counts[i]/np.sum(counts)) * entropy(data.where(data[split_attribute_name] == vals[i]).dropna()[target_name]) for i in range(len(vals))])\n",
        "\n",
        "    # کاهش آنتروپی\n",
        "    Information_Gain = total_entropy - weighted_entropy\n",
        "    return Information_Gain\n"
      ]
    },
    {
      "cell_type": "code",
      "execution_count": 14,
      "metadata": {
        "colab": {
          "base_uri": "https://localhost:8080/"
        },
        "id": "8xEKaogZJkKY",
        "outputId": "772727c4-b0ab-4e6b-8661-4d904987f0d7"
      },
      "outputs": [
        {
          "name": "stdout",
          "output_type": "stream",
          "text": [
            "values : ['A' 'B'], counts : [3 3]\n",
            "Information Gain for Feature1: 0.08170416594551044\n"
          ]
        }
      ],
      "source": [
        "# # ایجاد یک دیتافریم نمونه\n",
        "# data_test = pd.DataFrame({\n",
        "#     'Feature1': ['A', 'A', 'A', 'B', 'B', 'B'],\n",
        "#     'Target': ['Yes', 'Yes', 'No', 'No', 'No', 'Yes']\n",
        "# })\n",
        "\n",
        "# # محاسبه سود اطلاعاتی برای Feature1\n",
        "# info_gain = InfoGain(data_test, 'Feature1', 'Target')\n",
        "# print(f\"Information Gain for Feature1: {info_gain}\")"
      ]
    },
    {
      "cell_type": "code",
      "execution_count": 19,
      "metadata": {
        "colab": {
          "base_uri": "https://localhost:8080/"
        },
        "id": "rAKKo0BMdzVB",
        "outputId": "f0e9f7c8-3ee6-408f-9c53-c06a4a517d3e"
      },
      "outputs": [
        {
          "name": "stdout",
          "output_type": "stream",
          "text": [
            "Values : [4.3 4.4 4.5 4.6 4.7 4.8 4.9 5.  5.1 5.2 5.3 5.4 5.5 5.6 5.7 5.8 5.9 6.\n",
            " 6.1 6.2 6.3 6.4 6.5 6.6 6.7 6.8 6.9 7.  7.1 7.2 7.3 7.4 7.6 7.7 7.9], \n",
            "\n",
            "Counts : [ 1  3  1  4  2  5  6 10  9  4  1  6  7  6  8  7  3  6  6  4  9  7  5  2\n",
            "  8  3  4  1  1  3  1  1  1  4  1]\n",
            "\n",
            "Information Gain ➡️ sepal_length: 0.8769376208910578\n",
            " \n",
            "-------------------------\n",
            "Values : [2.  2.2 2.3 2.4 2.5 2.6 2.7 2.8 2.9 3.  3.1 3.2 3.3 3.4 3.5 3.6 3.7 3.8\n",
            " 3.9 4.  4.1 4.2 4.4], \n",
            "\n",
            "Counts : [ 1  3  4  3  8  5  9 14 10 26 12 13  6 12  6  3  3  6  2  1  1  1  1]\n",
            "\n",
            "Information Gain ➡️ sepal_width: 0.5108699641236063\n",
            " \n",
            "-------------------------\n",
            "Values : [1.  1.1 1.2 1.3 1.4 1.5 1.6 1.7 1.9 3.  3.3 3.5 3.6 3.7 3.8 3.9 4.  4.1\n",
            " 4.2 4.3 4.4 4.5 4.6 4.7 4.8 4.9 5.  5.1 5.2 5.3 5.4 5.5 5.6 5.7 5.8 5.9\n",
            " 6.  6.1 6.3 6.4 6.6 6.7 6.9], \n",
            "\n",
            "Counts : [ 1  1  2  7 12 14  7  4  2  1  2  2  1  1  1  3  5  3  4  2  4  8  3  5\n",
            "  4  5  4  8  2  2  2  3  6  3  3  2  2  3  1  1  1  2  1]\n",
            "\n",
            "Information Gain ➡️ petal_length: 1.4463165236458\n",
            " \n",
            "-------------------------\n",
            "Values : [0.1 0.2 0.3 0.4 0.5 0.6 1.  1.1 1.2 1.3 1.4 1.5 1.6 1.7 1.8 1.9 2.  2.1\n",
            " 2.2 2.3 2.4 2.5], \n",
            "\n",
            "Counts : [ 6 28  7  7  1  1  7  3  5 13  8 12  4  2 12  5  6  6  3  8  3  3]\n",
            "\n",
            "Information Gain ➡️ petal_width: 1.4358978386754417\n",
            " \n",
            "-------------------------\n"
          ]
        }
      ],
      "source": [
        "features = data.columns[:-1]  # همه ستون‌ها به جز ستون آخر که Target است\n",
        "information_gains = {}\n",
        "for feature in features:\n",
        "    ig = InfoGain(data, feature, target_name=\"class\")\n",
        "    information_gains[feature] = ig\n",
        "\n",
        "    print(f\"Information Gain ➡️ {feature}: {ig}\\n \")\n",
        "    print(\"-------------------------\")"
      ]
    },
    {
      "cell_type": "code",
      "execution_count": 8,
      "metadata": {
        "colab": {
          "base_uri": "https://localhost:8080/"
        },
        "id": "DH3Vx9FufYAF",
        "outputId": "90125fad-f05c-49ca-abeb-1d72d31899d1"
      },
      "outputs": [
        {
          "name": "stdout",
          "output_type": "stream",
          "text": [
            "Highest Information Gain: petal_length\n"
          ]
        }
      ],
      "source": [
        "best_feature = max(information_gains, key=information_gains.get)\n",
        "print(f\"Highest Information Gain: {best_feature}\")\n"
      ]
    },
    {
      "cell_type": "code",
      "execution_count": 26,
      "metadata": {
        "id": "pkgL1ENOAxs3"
      },
      "outputs": [],
      "source": [
        "def ID3(data, original_data, features, target_attribute_name=\"class\", parent_node_class=None, level=0):\n",
        "\n",
        "    \"\"\"\n",
        "    data : changable\n",
        "    original_data : fixed\n",
        "\n",
        "    \"\"\"\n",
        "    indent = \"  \" * level\n",
        "    \n",
        "\n",
        "    # Check the terminated conditions\n",
        "    \n",
        "    \"\"\"\n",
        "    # 1. If data is empty, then:\n",
        "    #     1.1 Return parent_node_class\n",
        "    \"\"\"\n",
        "\n",
        "\n",
        "    if len(data) == 0:\n",
        "        print(f\"{indent}  Leaf: {parent_node_class}\")\n",
        "        return parent_node_class\n",
        "    \n",
        "    # 2. If all target values are the same in data, then:\n",
        "    #   2.1 Return the single target value\n",
        "    \n",
        " \n",
        "    elif len(np.unique(data[target_attribute_name])) <= 1:\n",
        "        unique_class = np.unique(data[target_attribute_name])[0]    # data[target_attribute_name] = [1, 1, 1, 1] --> then fist element([0]) of this array is 1\n",
        "\n",
        "        print(f\"{indent}  Leaf: {unique_class}\")\n",
        "        return unique_class\n",
        "    \n",
        "    # 3. If features is empty, then:\n",
        "    #    3.1 Return the most common target value in the original_data\n",
        "    \n",
        "\n",
        "    elif len(features) == 0:\n",
        "        # ['Yes', 'No', 'Yes', 'Yes', 'No']\n",
        "        # original_data[target_attribute_name], return_counts=True) --> (array(['Yes', 'No']), array([3, 2]))\n",
        "        #np.unique(original_data[target_attribute_name], return_counts=True)[1] -->[3,2]\n",
        "        #[np.argmax(np.unique(original_data[target_attribute_name], return_counts=True)[1])] --> 💡maximum argemnrt of array is 0 because of 3 in [3,2]\n",
        "\n",
        "        majority_class = np.unique(original_data[target_attribute_name])[np.argmax(np.unique(original_data[target_attribute_name], return_counts=True)[1])]\n",
        "        print(f\"{indent}  Leaf: {majority_class}\")\n",
        "        return majority_class\n",
        "    \n",
        "\n",
        "    else:\n",
        "        # create subset\n",
        "        # The most frequent class\n",
        "        \n",
        "        parent_node_class = np.unique(data[target_attribute_name])[np.argmax(np.unique(data[target_attribute_name], return_counts=True)[1])]\n",
        "\n",
        "        # The most frequent feature\n",
        "\n",
        "        item_values = [InfoGain(data, feature, target_attribute_name) for feature in features]\n",
        "        best_feature_index = np.argmax(item_values)\n",
        "        best_feature = features[best_feature_index]\n",
        "        tree = {best_feature: {}}\n",
        "        print(f\"{indent}Node: {best_feature}\")\n",
        "\n",
        "        remaining_features = [i for i in features if i != best_feature]\n",
        "        for value in np.unique(data[best_feature]):\n",
        "            sub_data = data.where(data[best_feature] == value).dropna()\n",
        "            print(f\"{indent}  Creating subtree for {best_feature} = {value}\")\n",
        "            subtree = ID3(sub_data, data, remaining_features, target_attribute_name, parent_node_class, level + 1)\n",
        "            tree[best_feature][value] = subtree\n",
        "        return tree\n"
      ]
    },
    {
      "cell_type": "code",
      "execution_count": 19,
      "metadata": {
        "id": "-o9dRFAOd5FT"
      },
      "outputs": [],
      "source": [
        "import graphviz\n",
        "\n",
        "def plot_tree(tree, parent=None, parent_value=None, graph=None):\n",
        "    if graph is None:\n",
        "        graph = graphviz.Digraph(node_attr={'fontsize': '12', 'shape': 'ellipse', 'style': 'filled', 'color': 'lightblue'},\n",
        "                                 edge_attr={'fontsize': '10'})\n",
        "        graph.attr(size='30,30', dpi='600')\n",
        "    if isinstance(tree, dict):\n",
        "        feature = list(tree.keys())[0]\n",
        "        if parent is not None:\n",
        "            graph.node(feature, label=feature, shape='ellipse', style='filled', color='#66c2a5')\n",
        "            graph.edge(parent, feature, label=str(parent_value))\n",
        "        for value, subtree in tree[feature].items():\n",
        "            plot_tree(subtree, feature, value, graph)\n",
        "    else:\n",
        "        class_label = str(tree)\n",
        "        graph.node(class_label, label=class_label, shape='box', style='filled', color='#fc8d62')\n",
        "        if parent is not None:\n",
        "            graph.edge(parent, class_label, label=str(parent_value))\n",
        "\n",
        "    return graph"
      ]
    },
    {
      "cell_type": "code",
      "execution_count": 27,
      "metadata": {
        "colab": {
          "base_uri": "https://localhost:8080/"
        },
        "id": "jTgOOPlMVGn1",
        "outputId": "26ed9e28-eedc-45d9-d2e3-0405d7bad313"
      },
      "outputs": [
        {
          "name": "stdout",
          "output_type": "stream",
          "text": [
            "Node: petal_length\n",
            "  Creating subtree for petal_length = 1.0\n",
            "    Leaf: Iris-setosa\n",
            "  Creating subtree for petal_length = 1.1\n",
            "    Leaf: Iris-setosa\n",
            "  Creating subtree for petal_length = 1.2\n",
            "    Leaf: Iris-setosa\n",
            "  Creating subtree for petal_length = 1.3\n",
            "    Leaf: Iris-setosa\n",
            "  Creating subtree for petal_length = 1.4\n",
            "    Leaf: Iris-setosa\n",
            "  Creating subtree for petal_length = 1.5\n",
            "    Leaf: Iris-setosa\n",
            "  Creating subtree for petal_length = 1.6\n",
            "    Leaf: Iris-setosa\n",
            "  Creating subtree for petal_length = 1.7\n",
            "    Leaf: Iris-setosa\n",
            "  Creating subtree for petal_length = 1.9\n",
            "    Leaf: Iris-setosa\n",
            "  Creating subtree for petal_length = 3.0\n",
            "    Leaf: Iris-versicolor\n",
            "  Creating subtree for petal_length = 3.3\n",
            "    Leaf: Iris-versicolor\n",
            "  Creating subtree for petal_length = 3.5\n",
            "    Leaf: Iris-versicolor\n",
            "  Creating subtree for petal_length = 3.6\n",
            "    Leaf: Iris-versicolor\n",
            "  Creating subtree for petal_length = 3.7\n",
            "    Leaf: Iris-versicolor\n",
            "  Creating subtree for petal_length = 3.8\n",
            "    Leaf: Iris-versicolor\n",
            "  Creating subtree for petal_length = 3.9\n",
            "    Leaf: Iris-versicolor\n",
            "  Creating subtree for petal_length = 4.0\n",
            "    Leaf: Iris-versicolor\n",
            "  Creating subtree for petal_length = 4.1\n",
            "    Leaf: Iris-versicolor\n",
            "  Creating subtree for petal_length = 4.2\n",
            "    Leaf: Iris-versicolor\n",
            "  Creating subtree for petal_length = 4.3\n",
            "    Leaf: Iris-versicolor\n",
            "  Creating subtree for petal_length = 4.4\n",
            "    Leaf: Iris-versicolor\n",
            "  Creating subtree for petal_length = 4.5\n",
            "  Node: sepal_length\n",
            "    Creating subtree for sepal_length = 4.9\n",
            "      Leaf: Iris-virginica\n",
            "    Creating subtree for sepal_length = 5.4\n",
            "      Leaf: Iris-versicolor\n",
            "    Creating subtree for sepal_length = 5.6\n",
            "      Leaf: Iris-versicolor\n",
            "    Creating subtree for sepal_length = 5.7\n",
            "      Leaf: Iris-versicolor\n",
            "    Creating subtree for sepal_length = 6.0\n",
            "      Leaf: Iris-versicolor\n",
            "    Creating subtree for sepal_length = 6.2\n",
            "      Leaf: Iris-versicolor\n",
            "    Creating subtree for sepal_length = 6.4\n",
            "      Leaf: Iris-versicolor\n",
            "  Creating subtree for petal_length = 4.6\n",
            "    Leaf: Iris-versicolor\n",
            "  Creating subtree for petal_length = 4.7\n",
            "    Leaf: Iris-versicolor\n",
            "  Creating subtree for petal_length = 4.8\n",
            "  Node: sepal_length\n",
            "    Creating subtree for sepal_length = 5.9\n",
            "      Leaf: Iris-versicolor\n",
            "    Creating subtree for sepal_length = 6.0\n",
            "      Leaf: Iris-virginica\n",
            "    Creating subtree for sepal_length = 6.2\n",
            "      Leaf: Iris-virginica\n",
            "    Creating subtree for sepal_length = 6.8\n",
            "      Leaf: Iris-versicolor\n",
            "  Creating subtree for petal_length = 4.9\n",
            "  Node: sepal_width\n",
            "    Creating subtree for sepal_width = 2.5\n",
            "      Leaf: Iris-versicolor\n",
            "    Creating subtree for sepal_width = 2.7\n",
            "      Leaf: Iris-virginica\n",
            "    Creating subtree for sepal_width = 2.8\n",
            "      Leaf: Iris-virginica\n",
            "    Creating subtree for sepal_width = 3.0\n",
            "      Leaf: Iris-virginica\n",
            "    Creating subtree for sepal_width = 3.1\n",
            "      Leaf: Iris-versicolor\n",
            "  Creating subtree for petal_length = 5.0\n",
            "  Node: sepal_length\n",
            "    Creating subtree for sepal_length = 5.7\n",
            "      Leaf: Iris-virginica\n",
            "    Creating subtree for sepal_length = 6.0\n",
            "      Leaf: Iris-virginica\n",
            "    Creating subtree for sepal_length = 6.3\n",
            "      Leaf: Iris-virginica\n",
            "    Creating subtree for sepal_length = 6.7\n",
            "      Leaf: Iris-versicolor\n",
            "  Creating subtree for petal_length = 5.1\n",
            "  Node: sepal_length\n",
            "    Creating subtree for sepal_length = 5.8\n",
            "      Leaf: Iris-virginica\n",
            "    Creating subtree for sepal_length = 5.9\n",
            "      Leaf: Iris-virginica\n",
            "    Creating subtree for sepal_length = 6.0\n",
            "      Leaf: Iris-versicolor\n",
            "    Creating subtree for sepal_length = 6.3\n",
            "      Leaf: Iris-virginica\n",
            "    Creating subtree for sepal_length = 6.5\n",
            "      Leaf: Iris-virginica\n",
            "    Creating subtree for sepal_length = 6.9\n",
            "      Leaf: Iris-virginica\n",
            "  Creating subtree for petal_length = 5.2\n",
            "    Leaf: Iris-virginica\n",
            "  Creating subtree for petal_length = 5.3\n",
            "    Leaf: Iris-virginica\n",
            "  Creating subtree for petal_length = 5.4\n",
            "    Leaf: Iris-virginica\n",
            "  Creating subtree for petal_length = 5.5\n",
            "    Leaf: Iris-virginica\n",
            "  Creating subtree for petal_length = 5.6\n",
            "    Leaf: Iris-virginica\n",
            "  Creating subtree for petal_length = 5.7\n",
            "    Leaf: Iris-virginica\n",
            "  Creating subtree for petal_length = 5.8\n",
            "    Leaf: Iris-virginica\n",
            "  Creating subtree for petal_length = 5.9\n",
            "    Leaf: Iris-virginica\n",
            "  Creating subtree for petal_length = 6.0\n",
            "    Leaf: Iris-virginica\n",
            "  Creating subtree for petal_length = 6.1\n",
            "    Leaf: Iris-virginica\n",
            "  Creating subtree for petal_length = 6.3\n",
            "    Leaf: Iris-virginica\n",
            "  Creating subtree for petal_length = 6.4\n",
            "    Leaf: Iris-virginica\n",
            "  Creating subtree for petal_length = 6.6\n",
            "    Leaf: Iris-virginica\n",
            "  Creating subtree for petal_length = 6.7\n",
            "    Leaf: Iris-virginica\n",
            "  Creating subtree for petal_length = 6.9\n",
            "    Leaf: Iris-virginica\n"
          ]
        }
      ],
      "source": [
        "\n",
        "tree = ID3(data, data, features)\n"
      ]
    },
    {
      "cell_type": "code",
      "execution_count": 28,
      "metadata": {
        "colab": {
          "base_uri": "https://localhost:8080/",
          "height": 36
        },
        "id": "crS1eMpAeAR_",
        "outputId": "8801b63a-17c8-4943-920a-ae65b7e93b32"
      },
      "outputs": [
        {
          "data": {
            "application/vnd.google.colaboratory.intrinsic+json": {
              "type": "string"
            },
            "text/plain": [
              "'Digraph.gv.pdf'"
            ]
          },
          "execution_count": 28,
          "metadata": {},
          "output_type": "execute_result"
        }
      ],
      "source": [
        "graph = plot_tree(tree)\n",
        "graph.view()"
      ]
    }
  ],
  "metadata": {
    "colab": {
      "provenance": []
    },
    "kernelspec": {
      "display_name": "Python 3",
      "name": "python3"
    },
    "language_info": {
      "codemirror_mode": {
        "name": "ipython",
        "version": 3
      },
      "file_extension": ".py",
      "mimetype": "text/x-python",
      "name": "python",
      "nbconvert_exporter": "python",
      "pygments_lexer": "ipython3",
      "version": "3.11.5"
    }
  },
  "nbformat": 4,
  "nbformat_minor": 0
}
